{
 "cells": [
  {
   "cell_type": "code",
   "execution_count": 1,
   "id": "2cfa3cf2",
   "metadata": {
    "_cell_guid": "b1076dfc-b9ad-4769-8c92-a6c4dae69d19",
    "_uuid": "8f2839f25d086af736a60e9eeb907d3b93b6e0e5",
    "execution": {
     "iopub.execute_input": "2022-08-30T22:05:12.106633Z",
     "iopub.status.busy": "2022-08-30T22:05:12.105733Z",
     "iopub.status.idle": "2022-08-30T22:05:12.130069Z",
     "shell.execute_reply": "2022-08-30T22:05:12.128961Z"
    },
    "papermill": {
     "duration": 0.037472,
     "end_time": "2022-08-30T22:05:12.133328",
     "exception": false,
     "start_time": "2022-08-30T22:05:12.095856",
     "status": "completed"
    },
    "tags": []
   },
   "outputs": [
    {
     "name": "stdout",
     "output_type": "stream",
     "text": [
      "/kaggle/input/housing-prices-dataset/Housing.csv\n"
     ]
    }
   ],
   "source": [
    "# This Python 3 environment comes with many helpful analytics libraries installed\n",
    "# It is defined by the kaggle/python Docker image: https://github.com/kaggle/docker-python\n",
    "# For example, here's several helpful packages to load\n",
    "\n",
    "import numpy as np # linear algebra\n",
    "import pandas as pd # data processing, CSV file I/O (e.g. pd.read_csv)\n",
    "\n",
    "# Input data files are available in the read-only \"../input/\" directory\n",
    "# For example, running this (by clicking run or pressing Shift+Enter) will list all files under the input directory\n",
    "\n",
    "import os\n",
    "for dirname, _, filenames in os.walk('/kaggle/input'):\n",
    "    for filename in filenames:\n",
    "        print(os.path.join(dirname, filename))\n",
    "\n",
    "# You can write up to 20GB to the current directory (/kaggle/working/) that gets preserved as output when you create a version using \"Save & Run All\" \n",
    "# You can also write temporary files to /kaggle/temp/, but they won't be saved outside of the current session"
   ]
  },
  {
   "cell_type": "markdown",
   "id": "ef6ccc82",
   "metadata": {
    "papermill": {
     "duration": 0.003893,
     "end_time": "2022-08-30T22:05:12.141993",
     "exception": false,
     "start_time": "2022-08-30T22:05:12.138100",
     "status": "completed"
    },
    "tags": []
   },
   "source": [
    "Importing the dataset and dividing to independent and dependent variables"
   ]
  },
  {
   "cell_type": "code",
   "execution_count": 2,
   "id": "06b052e3",
   "metadata": {
    "execution": {
     "iopub.execute_input": "2022-08-30T22:05:12.152927Z",
     "iopub.status.busy": "2022-08-30T22:05:12.152392Z",
     "iopub.status.idle": "2022-08-30T22:05:12.193881Z",
     "shell.execute_reply": "2022-08-30T22:05:12.192362Z"
    },
    "papermill": {
     "duration": 0.050878,
     "end_time": "2022-08-30T22:05:12.197131",
     "exception": false,
     "start_time": "2022-08-30T22:05:12.146253",
     "status": "completed"
    },
    "tags": []
   },
   "outputs": [
    {
     "data": {
      "text/html": [
       "<div>\n",
       "<style scoped>\n",
       "    .dataframe tbody tr th:only-of-type {\n",
       "        vertical-align: middle;\n",
       "    }\n",
       "\n",
       "    .dataframe tbody tr th {\n",
       "        vertical-align: top;\n",
       "    }\n",
       "\n",
       "    .dataframe thead th {\n",
       "        text-align: right;\n",
       "    }\n",
       "</style>\n",
       "<table border=\"1\" class=\"dataframe\">\n",
       "  <thead>\n",
       "    <tr style=\"text-align: right;\">\n",
       "      <th></th>\n",
       "      <th>price</th>\n",
       "      <th>area</th>\n",
       "      <th>bedrooms</th>\n",
       "      <th>bathrooms</th>\n",
       "      <th>stories</th>\n",
       "      <th>mainroad</th>\n",
       "      <th>guestroom</th>\n",
       "      <th>basement</th>\n",
       "      <th>hotwaterheating</th>\n",
       "      <th>airconditioning</th>\n",
       "      <th>parking</th>\n",
       "      <th>prefarea</th>\n",
       "      <th>furnishingstatus</th>\n",
       "    </tr>\n",
       "  </thead>\n",
       "  <tbody>\n",
       "    <tr>\n",
       "      <th>0</th>\n",
       "      <td>13300000</td>\n",
       "      <td>7420</td>\n",
       "      <td>4</td>\n",
       "      <td>2</td>\n",
       "      <td>3</td>\n",
       "      <td>yes</td>\n",
       "      <td>no</td>\n",
       "      <td>no</td>\n",
       "      <td>no</td>\n",
       "      <td>yes</td>\n",
       "      <td>2</td>\n",
       "      <td>yes</td>\n",
       "      <td>furnished</td>\n",
       "    </tr>\n",
       "    <tr>\n",
       "      <th>1</th>\n",
       "      <td>12250000</td>\n",
       "      <td>8960</td>\n",
       "      <td>4</td>\n",
       "      <td>4</td>\n",
       "      <td>4</td>\n",
       "      <td>yes</td>\n",
       "      <td>no</td>\n",
       "      <td>no</td>\n",
       "      <td>no</td>\n",
       "      <td>yes</td>\n",
       "      <td>3</td>\n",
       "      <td>no</td>\n",
       "      <td>furnished</td>\n",
       "    </tr>\n",
       "    <tr>\n",
       "      <th>2</th>\n",
       "      <td>12250000</td>\n",
       "      <td>9960</td>\n",
       "      <td>3</td>\n",
       "      <td>2</td>\n",
       "      <td>2</td>\n",
       "      <td>yes</td>\n",
       "      <td>no</td>\n",
       "      <td>yes</td>\n",
       "      <td>no</td>\n",
       "      <td>no</td>\n",
       "      <td>2</td>\n",
       "      <td>yes</td>\n",
       "      <td>semi-furnished</td>\n",
       "    </tr>\n",
       "    <tr>\n",
       "      <th>3</th>\n",
       "      <td>12215000</td>\n",
       "      <td>7500</td>\n",
       "      <td>4</td>\n",
       "      <td>2</td>\n",
       "      <td>2</td>\n",
       "      <td>yes</td>\n",
       "      <td>no</td>\n",
       "      <td>yes</td>\n",
       "      <td>no</td>\n",
       "      <td>yes</td>\n",
       "      <td>3</td>\n",
       "      <td>yes</td>\n",
       "      <td>furnished</td>\n",
       "    </tr>\n",
       "    <tr>\n",
       "      <th>4</th>\n",
       "      <td>11410000</td>\n",
       "      <td>7420</td>\n",
       "      <td>4</td>\n",
       "      <td>1</td>\n",
       "      <td>2</td>\n",
       "      <td>yes</td>\n",
       "      <td>yes</td>\n",
       "      <td>yes</td>\n",
       "      <td>no</td>\n",
       "      <td>yes</td>\n",
       "      <td>2</td>\n",
       "      <td>no</td>\n",
       "      <td>furnished</td>\n",
       "    </tr>\n",
       "  </tbody>\n",
       "</table>\n",
       "</div>"
      ],
      "text/plain": [
       "      price  area  bedrooms  bathrooms  stories mainroad guestroom basement  \\\n",
       "0  13300000  7420         4          2        3      yes        no       no   \n",
       "1  12250000  8960         4          4        4      yes        no       no   \n",
       "2  12250000  9960         3          2        2      yes        no      yes   \n",
       "3  12215000  7500         4          2        2      yes        no      yes   \n",
       "4  11410000  7420         4          1        2      yes       yes      yes   \n",
       "\n",
       "  hotwaterheating airconditioning  parking prefarea furnishingstatus  \n",
       "0              no             yes        2      yes        furnished  \n",
       "1              no             yes        3       no        furnished  \n",
       "2              no              no        2      yes   semi-furnished  \n",
       "3              no             yes        3      yes        furnished  \n",
       "4              no             yes        2       no        furnished  "
      ]
     },
     "execution_count": 2,
     "metadata": {},
     "output_type": "execute_result"
    }
   ],
   "source": [
    "dt = pd.read_csv('../input/housing-prices-dataset/Housing.csv')\n",
    "dt.head()"
   ]
  },
  {
   "cell_type": "code",
   "execution_count": 3,
   "id": "cec9f00d",
   "metadata": {
    "execution": {
     "iopub.execute_input": "2022-08-30T22:05:12.210662Z",
     "iopub.status.busy": "2022-08-30T22:05:12.209437Z",
     "iopub.status.idle": "2022-08-30T22:05:12.248584Z",
     "shell.execute_reply": "2022-08-30T22:05:12.247552Z"
    },
    "papermill": {
     "duration": 0.049305,
     "end_time": "2022-08-30T22:05:12.251974",
     "exception": false,
     "start_time": "2022-08-30T22:05:12.202669",
     "status": "completed"
    },
    "tags": []
   },
   "outputs": [
    {
     "name": "stdout",
     "output_type": "stream",
     "text": [
      "<class 'pandas.core.frame.DataFrame'>\n",
      "RangeIndex: 545 entries, 0 to 544\n",
      "Data columns (total 13 columns):\n",
      " #   Column            Non-Null Count  Dtype \n",
      "---  ------            --------------  ----- \n",
      " 0   price             545 non-null    int64 \n",
      " 1   area              545 non-null    int64 \n",
      " 2   bedrooms          545 non-null    int64 \n",
      " 3   bathrooms         545 non-null    int64 \n",
      " 4   stories           545 non-null    int64 \n",
      " 5   mainroad          545 non-null    object\n",
      " 6   guestroom         545 non-null    object\n",
      " 7   basement          545 non-null    object\n",
      " 8   hotwaterheating   545 non-null    object\n",
      " 9   airconditioning   545 non-null    object\n",
      " 10  parking           545 non-null    int64 \n",
      " 11  prefarea          545 non-null    object\n",
      " 12  furnishingstatus  545 non-null    object\n",
      "dtypes: int64(6), object(7)\n",
      "memory usage: 55.5+ KB\n"
     ]
    }
   ],
   "source": [
    "dt.info()"
   ]
  },
  {
   "cell_type": "code",
   "execution_count": 4,
   "id": "24824808",
   "metadata": {
    "execution": {
     "iopub.execute_input": "2022-08-30T22:05:12.264619Z",
     "iopub.status.busy": "2022-08-30T22:05:12.263680Z",
     "iopub.status.idle": "2022-08-30T22:05:12.274208Z",
     "shell.execute_reply": "2022-08-30T22:05:12.272683Z"
    },
    "papermill": {
     "duration": 0.020448,
     "end_time": "2022-08-30T22:05:12.277499",
     "exception": false,
     "start_time": "2022-08-30T22:05:12.257051",
     "status": "completed"
    },
    "tags": []
   },
   "outputs": [],
   "source": [
    "x = dt.iloc[:,1:].values\n",
    "y = dt.iloc[:, 0].values"
   ]
  },
  {
   "cell_type": "code",
   "execution_count": 5,
   "id": "ae505279",
   "metadata": {
    "execution": {
     "iopub.execute_input": "2022-08-30T22:05:12.289581Z",
     "iopub.status.busy": "2022-08-30T22:05:12.288639Z",
     "iopub.status.idle": "2022-08-30T22:05:12.299871Z",
     "shell.execute_reply": "2022-08-30T22:05:12.298511Z"
    },
    "papermill": {
     "duration": 0.020213,
     "end_time": "2022-08-30T22:05:12.302573",
     "exception": false,
     "start_time": "2022-08-30T22:05:12.282360",
     "status": "completed"
    },
    "tags": []
   },
   "outputs": [
    {
     "data": {
      "text/plain": [
       "price               0\n",
       "area                0\n",
       "bedrooms            0\n",
       "bathrooms           0\n",
       "stories             0\n",
       "mainroad            0\n",
       "guestroom           0\n",
       "basement            0\n",
       "hotwaterheating     0\n",
       "airconditioning     0\n",
       "parking             0\n",
       "prefarea            0\n",
       "furnishingstatus    0\n",
       "dtype: int64"
      ]
     },
     "execution_count": 5,
     "metadata": {},
     "output_type": "execute_result"
    }
   ],
   "source": [
    "dt.isnull().sum()"
   ]
  },
  {
   "cell_type": "markdown",
   "id": "7eb379df",
   "metadata": {
    "papermill": {
     "duration": 0.004467,
     "end_time": "2022-08-30T22:05:12.311888",
     "exception": false,
     "start_time": "2022-08-30T22:05:12.307421",
     "status": "completed"
    },
    "tags": []
   },
   "source": [
    "Encoding furnishingstatus column using OneHotEncoder"
   ]
  },
  {
   "cell_type": "code",
   "execution_count": 6,
   "id": "6503be6a",
   "metadata": {
    "execution": {
     "iopub.execute_input": "2022-08-30T22:05:12.324181Z",
     "iopub.status.busy": "2022-08-30T22:05:12.322916Z",
     "iopub.status.idle": "2022-08-30T22:05:12.331621Z",
     "shell.execute_reply": "2022-08-30T22:05:12.330359Z"
    },
    "papermill": {
     "duration": 0.017532,
     "end_time": "2022-08-30T22:05:12.334145",
     "exception": false,
     "start_time": "2022-08-30T22:05:12.316613",
     "status": "completed"
    },
    "tags": []
   },
   "outputs": [
    {
     "data": {
      "text/plain": [
       "array([7420, 4, 2, 3, 'yes', 'no', 'no', 'no', 'yes', 2, 'yes',\n",
       "       'furnished'], dtype=object)"
      ]
     },
     "execution_count": 6,
     "metadata": {},
     "output_type": "execute_result"
    }
   ],
   "source": [
    "x[0]"
   ]
  },
  {
   "cell_type": "code",
   "execution_count": 7,
   "id": "ee5b4df1",
   "metadata": {
    "execution": {
     "iopub.execute_input": "2022-08-30T22:05:12.346263Z",
     "iopub.status.busy": "2022-08-30T22:05:12.345817Z",
     "iopub.status.idle": "2022-08-30T22:05:13.610308Z",
     "shell.execute_reply": "2022-08-30T22:05:13.608975Z"
    },
    "papermill": {
     "duration": 1.273965,
     "end_time": "2022-08-30T22:05:13.613057",
     "exception": false,
     "start_time": "2022-08-30T22:05:12.339092",
     "status": "completed"
    },
    "tags": []
   },
   "outputs": [
    {
     "data": {
      "text/plain": [
       "array([1.0, 0.0, 0.0, 7420, 4, 2, 3, 'yes', 'no', 'no', 'no', 'yes', 2,\n",
       "       'yes'], dtype=object)"
      ]
     },
     "execution_count": 7,
     "metadata": {},
     "output_type": "execute_result"
    }
   ],
   "source": [
    "from sklearn.compose import ColumnTransformer\n",
    "from sklearn.preprocessing import OneHotEncoder\n",
    "ct = ColumnTransformer(transformers=[('encoder', OneHotEncoder(), [-1])], remainder='passthrough')\n",
    "x = np.array(ct.fit_transform(x))\n",
    "x[0]"
   ]
  },
  {
   "cell_type": "markdown",
   "id": "51dfc4d1",
   "metadata": {
    "papermill": {
     "duration": 0.004651,
     "end_time": "2022-08-30T22:05:13.622805",
     "exception": false,
     "start_time": "2022-08-30T22:05:13.618154",
     "status": "completed"
    },
    "tags": []
   },
   "source": [
    "LabelEncoder for yes, no"
   ]
  },
  {
   "cell_type": "code",
   "execution_count": 8,
   "id": "2fa7495c",
   "metadata": {
    "execution": {
     "iopub.execute_input": "2022-08-30T22:05:13.635333Z",
     "iopub.status.busy": "2022-08-30T22:05:13.633921Z",
     "iopub.status.idle": "2022-08-30T22:05:13.647067Z",
     "shell.execute_reply": "2022-08-30T22:05:13.646138Z"
    },
    "papermill": {
     "duration": 0.021897,
     "end_time": "2022-08-30T22:05:13.649514",
     "exception": false,
     "start_time": "2022-08-30T22:05:13.627617",
     "status": "completed"
    },
    "tags": []
   },
   "outputs": [
    {
     "data": {
      "text/plain": [
       "array([[1.0, 0.0, 0.0, 7420, 4, 2, 3, 1, 0, 0, 0, 1, 2, 1],\n",
       "       [1.0, 0.0, 0.0, 8960, 4, 4, 4, 1, 0, 0, 0, 1, 3, 0],\n",
       "       [0.0, 1.0, 0.0, 9960, 3, 2, 2, 1, 0, 1, 0, 0, 2, 1]], dtype=object)"
      ]
     },
     "execution_count": 8,
     "metadata": {},
     "output_type": "execute_result"
    }
   ],
   "source": [
    "from sklearn.preprocessing import LabelEncoder\n",
    "le = LabelEncoder()\n",
    "x[:,7] = le.fit_transform(x[:,7].astype(str))\n",
    "x[:,8] = le.fit_transform(x[:,8].astype(str))\n",
    "x[:,9] = le.fit_transform(x[:,9].astype(str))\n",
    "x[:,10] = le.fit_transform(x[:,10].astype(str))\n",
    "x[:,11] = le.fit_transform(x[:,11].astype(str))\n",
    "x[:,13] = le.fit_transform(x[:,13].astype(str))\n",
    "x[0:3]"
   ]
  },
  {
   "cell_type": "markdown",
   "id": "2b80c319",
   "metadata": {
    "papermill": {
     "duration": 0.004741,
     "end_time": "2022-08-30T22:05:13.659333",
     "exception": false,
     "start_time": "2022-08-30T22:05:13.654592",
     "status": "completed"
    },
    "tags": []
   },
   "source": [
    "Splitting the dataset into the Training set and Test set"
   ]
  },
  {
   "cell_type": "code",
   "execution_count": 9,
   "id": "b43bfad3",
   "metadata": {
    "execution": {
     "iopub.execute_input": "2022-08-30T22:05:13.672526Z",
     "iopub.status.busy": "2022-08-30T22:05:13.671673Z",
     "iopub.status.idle": "2022-08-30T22:05:13.744758Z",
     "shell.execute_reply": "2022-08-30T22:05:13.743558Z"
    },
    "papermill": {
     "duration": 0.082762,
     "end_time": "2022-08-30T22:05:13.747859",
     "exception": false,
     "start_time": "2022-08-30T22:05:13.665097",
     "status": "completed"
    },
    "tags": []
   },
   "outputs": [],
   "source": [
    "from sklearn.model_selection import train_test_split\n",
    "x_train, x_test, y_train, y_test = train_test_split(x, y, test_size = 0.4, random_state = 1)"
   ]
  },
  {
   "cell_type": "markdown",
   "id": "76472853",
   "metadata": {
    "papermill": {
     "duration": 0.004764,
     "end_time": "2022-08-30T22:05:13.757725",
     "exception": false,
     "start_time": "2022-08-30T22:05:13.752961",
     "status": "completed"
    },
    "tags": []
   },
   "source": [
    "Feature Scaling, normalizing range of values"
   ]
  },
  {
   "cell_type": "code",
   "execution_count": 10,
   "id": "5c60b688",
   "metadata": {
    "execution": {
     "iopub.execute_input": "2022-08-30T22:05:13.770736Z",
     "iopub.status.busy": "2022-08-30T22:05:13.769780Z",
     "iopub.status.idle": "2022-08-30T22:05:13.781151Z",
     "shell.execute_reply": "2022-08-30T22:05:13.780079Z"
    },
    "papermill": {
     "duration": 0.020898,
     "end_time": "2022-08-30T22:05:13.783661",
     "exception": false,
     "start_time": "2022-08-30T22:05:13.762763",
     "status": "completed"
    },
    "tags": []
   },
   "outputs": [
    {
     "data": {
      "text/plain": [
       "array([[0.0, 1.0, 0.0, 2.2176003337956427, 3, 1, 1, 1, 0, 0, 0, 0, 1, 1],\n",
       "       [0.0, 1.0, 0.0, 0.38142960100838186, 3, 1, 3, 1, 1, 0, 0, 1, 0, 1],\n",
       "       [1.0, 0.0, 0.0, 3.0196312535379315, 4, 2, 2, 1, 0, 0, 0, 0, 2, 1],\n",
       "       [0.0, 0.0, 1.0, 0.2845340478269961, 2, 1, 1, 1, 0, 0, 0, 0, 0, 0]],\n",
       "      dtype=object)"
      ]
     },
     "execution_count": 10,
     "metadata": {},
     "output_type": "execute_result"
    }
   ],
   "source": [
    "from sklearn.preprocessing import StandardScaler\n",
    "sc = StandardScaler()\n",
    "x_train[:, 3:4] = sc.fit_transform(x_train[:, 3:4])\n",
    "x_test[:, 3:4] = sc.transform(x_test[:, 3:4])\n",
    "x_train[0:4]"
   ]
  }
 ],
 "metadata": {
  "kernelspec": {
   "display_name": "Python 3",
   "language": "python",
   "name": "python3"
  },
  "language_info": {
   "codemirror_mode": {
    "name": "ipython",
    "version": 3
   },
   "file_extension": ".py",
   "mimetype": "text/x-python",
   "name": "python",
   "nbconvert_exporter": "python",
   "pygments_lexer": "ipython3",
   "version": "3.7.12"
  },
  "papermill": {
   "default_parameters": {},
   "duration": 12.296037,
   "end_time": "2022-08-30T22:05:14.714448",
   "environment_variables": {},
   "exception": null,
   "input_path": "__notebook__.ipynb",
   "output_path": "__notebook__.ipynb",
   "parameters": {},
   "start_time": "2022-08-30T22:05:02.418411",
   "version": "2.3.4"
  }
 },
 "nbformat": 4,
 "nbformat_minor": 5
}

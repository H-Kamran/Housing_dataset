{
 "cells": [
  {
   "cell_type": "code",
   "execution_count": 1,
   "id": "a3b2f788",
   "metadata": {
    "_cell_guid": "b1076dfc-b9ad-4769-8c92-a6c4dae69d19",
    "_uuid": "8f2839f25d086af736a60e9eeb907d3b93b6e0e5",
    "execution": {
     "iopub.execute_input": "2022-08-30T22:14:24.511192Z",
     "iopub.status.busy": "2022-08-30T22:14:24.510576Z",
     "iopub.status.idle": "2022-08-30T22:14:24.533184Z",
     "shell.execute_reply": "2022-08-30T22:14:24.532293Z"
    },
    "papermill": {
     "duration": 0.031048,
     "end_time": "2022-08-30T22:14:24.535798",
     "exception": false,
     "start_time": "2022-08-30T22:14:24.504750",
     "status": "completed"
    },
    "tags": []
   },
   "outputs": [
    {
     "name": "stdout",
     "output_type": "stream",
     "text": [
      "/kaggle/input/housing-prices-dataset/Housing.csv\n"
     ]
    }
   ],
   "source": [
    "# This Python 3 environment comes with many helpful analytics libraries installed\n",
    "# It is defined by the kaggle/python Docker image: https://github.com/kaggle/docker-python\n",
    "# For example, here's several helpful packages to load\n",
    "\n",
    "import numpy as np # linear algebra\n",
    "import pandas as pd # data processing, CSV file I/O (e.g. pd.read_csv)\n",
    "\n",
    "# Input data files are available in the read-only \"../input/\" directory\n",
    "# For example, running this (by clicking run or pressing Shift+Enter) will list all files under the input directory\n",
    "\n",
    "import os\n",
    "for dirname, _, filenames in os.walk('/kaggle/input'):\n",
    "    for filename in filenames:\n",
    "        print(os.path.join(dirname, filename))\n",
    "\n",
    "# You can write up to 20GB to the current directory (/kaggle/working/) that gets preserved as output when you create a version using \"Save & Run All\" \n",
    "# You can also write temporary files to /kaggle/temp/, but they won't be saved outside of the current session"
   ]
  },
  {
   "cell_type": "markdown",
   "id": "43568164",
   "metadata": {
    "papermill": {
     "duration": 0.003421,
     "end_time": "2022-08-30T22:14:24.543140",
     "exception": false,
     "start_time": "2022-08-30T22:14:24.539719",
     "status": "completed"
    },
    "tags": []
   },
   "source": [
    "https://www.kaggle.com/datasets/yasserh/housing-prices-dataset\n",
    "\n",
    "Importing the dataset and dividing to independent and dependent variables"
   ]
  },
  {
   "cell_type": "code",
   "execution_count": 2,
   "id": "0ac6906f",
   "metadata": {
    "execution": {
     "iopub.execute_input": "2022-08-30T22:14:24.552052Z",
     "iopub.status.busy": "2022-08-30T22:14:24.551279Z",
     "iopub.status.idle": "2022-08-30T22:14:24.586894Z",
     "shell.execute_reply": "2022-08-30T22:14:24.586011Z"
    },
    "papermill": {
     "duration": 0.041903,
     "end_time": "2022-08-30T22:14:24.588666",
     "exception": false,
     "start_time": "2022-08-30T22:14:24.546763",
     "status": "completed"
    },
    "tags": []
   },
   "outputs": [
    {
     "data": {
      "text/html": [
       "<div>\n",
       "<style scoped>\n",
       "    .dataframe tbody tr th:only-of-type {\n",
       "        vertical-align: middle;\n",
       "    }\n",
       "\n",
       "    .dataframe tbody tr th {\n",
       "        vertical-align: top;\n",
       "    }\n",
       "\n",
       "    .dataframe thead th {\n",
       "        text-align: right;\n",
       "    }\n",
       "</style>\n",
       "<table border=\"1\" class=\"dataframe\">\n",
       "  <thead>\n",
       "    <tr style=\"text-align: right;\">\n",
       "      <th></th>\n",
       "      <th>price</th>\n",
       "      <th>area</th>\n",
       "      <th>bedrooms</th>\n",
       "      <th>bathrooms</th>\n",
       "      <th>stories</th>\n",
       "      <th>mainroad</th>\n",
       "      <th>guestroom</th>\n",
       "      <th>basement</th>\n",
       "      <th>hotwaterheating</th>\n",
       "      <th>airconditioning</th>\n",
       "      <th>parking</th>\n",
       "      <th>prefarea</th>\n",
       "      <th>furnishingstatus</th>\n",
       "    </tr>\n",
       "  </thead>\n",
       "  <tbody>\n",
       "    <tr>\n",
       "      <th>0</th>\n",
       "      <td>13300000</td>\n",
       "      <td>7420</td>\n",
       "      <td>4</td>\n",
       "      <td>2</td>\n",
       "      <td>3</td>\n",
       "      <td>yes</td>\n",
       "      <td>no</td>\n",
       "      <td>no</td>\n",
       "      <td>no</td>\n",
       "      <td>yes</td>\n",
       "      <td>2</td>\n",
       "      <td>yes</td>\n",
       "      <td>furnished</td>\n",
       "    </tr>\n",
       "    <tr>\n",
       "      <th>1</th>\n",
       "      <td>12250000</td>\n",
       "      <td>8960</td>\n",
       "      <td>4</td>\n",
       "      <td>4</td>\n",
       "      <td>4</td>\n",
       "      <td>yes</td>\n",
       "      <td>no</td>\n",
       "      <td>no</td>\n",
       "      <td>no</td>\n",
       "      <td>yes</td>\n",
       "      <td>3</td>\n",
       "      <td>no</td>\n",
       "      <td>furnished</td>\n",
       "    </tr>\n",
       "    <tr>\n",
       "      <th>2</th>\n",
       "      <td>12250000</td>\n",
       "      <td>9960</td>\n",
       "      <td>3</td>\n",
       "      <td>2</td>\n",
       "      <td>2</td>\n",
       "      <td>yes</td>\n",
       "      <td>no</td>\n",
       "      <td>yes</td>\n",
       "      <td>no</td>\n",
       "      <td>no</td>\n",
       "      <td>2</td>\n",
       "      <td>yes</td>\n",
       "      <td>semi-furnished</td>\n",
       "    </tr>\n",
       "    <tr>\n",
       "      <th>3</th>\n",
       "      <td>12215000</td>\n",
       "      <td>7500</td>\n",
       "      <td>4</td>\n",
       "      <td>2</td>\n",
       "      <td>2</td>\n",
       "      <td>yes</td>\n",
       "      <td>no</td>\n",
       "      <td>yes</td>\n",
       "      <td>no</td>\n",
       "      <td>yes</td>\n",
       "      <td>3</td>\n",
       "      <td>yes</td>\n",
       "      <td>furnished</td>\n",
       "    </tr>\n",
       "    <tr>\n",
       "      <th>4</th>\n",
       "      <td>11410000</td>\n",
       "      <td>7420</td>\n",
       "      <td>4</td>\n",
       "      <td>1</td>\n",
       "      <td>2</td>\n",
       "      <td>yes</td>\n",
       "      <td>yes</td>\n",
       "      <td>yes</td>\n",
       "      <td>no</td>\n",
       "      <td>yes</td>\n",
       "      <td>2</td>\n",
       "      <td>no</td>\n",
       "      <td>furnished</td>\n",
       "    </tr>\n",
       "  </tbody>\n",
       "</table>\n",
       "</div>"
      ],
      "text/plain": [
       "      price  area  bedrooms  bathrooms  stories mainroad guestroom basement  \\\n",
       "0  13300000  7420         4          2        3      yes        no       no   \n",
       "1  12250000  8960         4          4        4      yes        no       no   \n",
       "2  12250000  9960         3          2        2      yes        no      yes   \n",
       "3  12215000  7500         4          2        2      yes        no      yes   \n",
       "4  11410000  7420         4          1        2      yes       yes      yes   \n",
       "\n",
       "  hotwaterheating airconditioning  parking prefarea furnishingstatus  \n",
       "0              no             yes        2      yes        furnished  \n",
       "1              no             yes        3       no        furnished  \n",
       "2              no              no        2      yes   semi-furnished  \n",
       "3              no             yes        3      yes        furnished  \n",
       "4              no             yes        2       no        furnished  "
      ]
     },
     "execution_count": 2,
     "metadata": {},
     "output_type": "execute_result"
    }
   ],
   "source": [
    "dt = pd.read_csv('../input/housing-prices-dataset/Housing.csv')\n",
    "dt.head()"
   ]
  },
  {
   "cell_type": "code",
   "execution_count": 3,
   "id": "9efb2f28",
   "metadata": {
    "execution": {
     "iopub.execute_input": "2022-08-30T22:14:24.598006Z",
     "iopub.status.busy": "2022-08-30T22:14:24.597464Z",
     "iopub.status.idle": "2022-08-30T22:14:24.619696Z",
     "shell.execute_reply": "2022-08-30T22:14:24.618446Z"
    },
    "papermill": {
     "duration": 0.029353,
     "end_time": "2022-08-30T22:14:24.621881",
     "exception": false,
     "start_time": "2022-08-30T22:14:24.592528",
     "status": "completed"
    },
    "tags": []
   },
   "outputs": [
    {
     "name": "stdout",
     "output_type": "stream",
     "text": [
      "<class 'pandas.core.frame.DataFrame'>\n",
      "RangeIndex: 545 entries, 0 to 544\n",
      "Data columns (total 13 columns):\n",
      " #   Column            Non-Null Count  Dtype \n",
      "---  ------            --------------  ----- \n",
      " 0   price             545 non-null    int64 \n",
      " 1   area              545 non-null    int64 \n",
      " 2   bedrooms          545 non-null    int64 \n",
      " 3   bathrooms         545 non-null    int64 \n",
      " 4   stories           545 non-null    int64 \n",
      " 5   mainroad          545 non-null    object\n",
      " 6   guestroom         545 non-null    object\n",
      " 7   basement          545 non-null    object\n",
      " 8   hotwaterheating   545 non-null    object\n",
      " 9   airconditioning   545 non-null    object\n",
      " 10  parking           545 non-null    int64 \n",
      " 11  prefarea          545 non-null    object\n",
      " 12  furnishingstatus  545 non-null    object\n",
      "dtypes: int64(6), object(7)\n",
      "memory usage: 55.5+ KB\n"
     ]
    }
   ],
   "source": [
    "dt.info()"
   ]
  },
  {
   "cell_type": "code",
   "execution_count": 4,
   "id": "19168151",
   "metadata": {
    "execution": {
     "iopub.execute_input": "2022-08-30T22:14:24.632170Z",
     "iopub.status.busy": "2022-08-30T22:14:24.631250Z",
     "iopub.status.idle": "2022-08-30T22:14:24.639848Z",
     "shell.execute_reply": "2022-08-30T22:14:24.639048Z"
    },
    "papermill": {
     "duration": 0.015804,
     "end_time": "2022-08-30T22:14:24.641909",
     "exception": false,
     "start_time": "2022-08-30T22:14:24.626105",
     "status": "completed"
    },
    "tags": []
   },
   "outputs": [],
   "source": [
    "x = dt.iloc[:,1:].values\n",
    "y = dt.iloc[:, 0].values"
   ]
  },
  {
   "cell_type": "code",
   "execution_count": 5,
   "id": "86c16fa0",
   "metadata": {
    "execution": {
     "iopub.execute_input": "2022-08-30T22:14:24.651734Z",
     "iopub.status.busy": "2022-08-30T22:14:24.651195Z",
     "iopub.status.idle": "2022-08-30T22:14:24.658795Z",
     "shell.execute_reply": "2022-08-30T22:14:24.657762Z"
    },
    "papermill": {
     "duration": 0.014944,
     "end_time": "2022-08-30T22:14:24.661018",
     "exception": false,
     "start_time": "2022-08-30T22:14:24.646074",
     "status": "completed"
    },
    "tags": []
   },
   "outputs": [
    {
     "data": {
      "text/plain": [
       "price               0\n",
       "area                0\n",
       "bedrooms            0\n",
       "bathrooms           0\n",
       "stories             0\n",
       "mainroad            0\n",
       "guestroom           0\n",
       "basement            0\n",
       "hotwaterheating     0\n",
       "airconditioning     0\n",
       "parking             0\n",
       "prefarea            0\n",
       "furnishingstatus    0\n",
       "dtype: int64"
      ]
     },
     "execution_count": 5,
     "metadata": {},
     "output_type": "execute_result"
    }
   ],
   "source": [
    "dt.isnull().sum()"
   ]
  },
  {
   "cell_type": "markdown",
   "id": "798ad16f",
   "metadata": {
    "papermill": {
     "duration": 0.003868,
     "end_time": "2022-08-30T22:14:24.669140",
     "exception": false,
     "start_time": "2022-08-30T22:14:24.665272",
     "status": "completed"
    },
    "tags": []
   },
   "source": [
    "Encoding furnishingstatus column using OneHotEncoder"
   ]
  },
  {
   "cell_type": "code",
   "execution_count": 6,
   "id": "c7ad62d9",
   "metadata": {
    "execution": {
     "iopub.execute_input": "2022-08-30T22:14:24.679115Z",
     "iopub.status.busy": "2022-08-30T22:14:24.678395Z",
     "iopub.status.idle": "2022-08-30T22:14:24.684596Z",
     "shell.execute_reply": "2022-08-30T22:14:24.683087Z"
    },
    "papermill": {
     "duration": 0.013551,
     "end_time": "2022-08-30T22:14:24.686661",
     "exception": false,
     "start_time": "2022-08-30T22:14:24.673110",
     "status": "completed"
    },
    "tags": []
   },
   "outputs": [
    {
     "data": {
      "text/plain": [
       "array([7420, 4, 2, 3, 'yes', 'no', 'no', 'no', 'yes', 2, 'yes',\n",
       "       'furnished'], dtype=object)"
      ]
     },
     "execution_count": 6,
     "metadata": {},
     "output_type": "execute_result"
    }
   ],
   "source": [
    "x[0]"
   ]
  },
  {
   "cell_type": "code",
   "execution_count": 7,
   "id": "ebb97bfe",
   "metadata": {
    "execution": {
     "iopub.execute_input": "2022-08-30T22:14:24.697195Z",
     "iopub.status.busy": "2022-08-30T22:14:24.696403Z",
     "iopub.status.idle": "2022-08-30T22:14:25.847902Z",
     "shell.execute_reply": "2022-08-30T22:14:25.846701Z"
    },
    "papermill": {
     "duration": 1.159033,
     "end_time": "2022-08-30T22:14:25.850051",
     "exception": false,
     "start_time": "2022-08-30T22:14:24.691018",
     "status": "completed"
    },
    "tags": []
   },
   "outputs": [
    {
     "data": {
      "text/plain": [
       "array([1.0, 0.0, 0.0, 7420, 4, 2, 3, 'yes', 'no', 'no', 'no', 'yes', 2,\n",
       "       'yes'], dtype=object)"
      ]
     },
     "execution_count": 7,
     "metadata": {},
     "output_type": "execute_result"
    }
   ],
   "source": [
    "from sklearn.compose import ColumnTransformer\n",
    "from sklearn.preprocessing import OneHotEncoder\n",
    "ct = ColumnTransformer(transformers=[('encoder', OneHotEncoder(), [-1])], remainder='passthrough')\n",
    "x = np.array(ct.fit_transform(x))\n",
    "x[0]"
   ]
  },
  {
   "cell_type": "markdown",
   "id": "c635f333",
   "metadata": {
    "papermill": {
     "duration": 0.00458,
     "end_time": "2022-08-30T22:14:25.859601",
     "exception": false,
     "start_time": "2022-08-30T22:14:25.855021",
     "status": "completed"
    },
    "tags": []
   },
   "source": [
    "LabelEncoder for yes, no"
   ]
  },
  {
   "cell_type": "code",
   "execution_count": 8,
   "id": "624a0849",
   "metadata": {
    "execution": {
     "iopub.execute_input": "2022-08-30T22:14:25.870378Z",
     "iopub.status.busy": "2022-08-30T22:14:25.869875Z",
     "iopub.status.idle": "2022-08-30T22:14:25.880481Z",
     "shell.execute_reply": "2022-08-30T22:14:25.878989Z"
    },
    "papermill": {
     "duration": 0.018937,
     "end_time": "2022-08-30T22:14:25.883127",
     "exception": false,
     "start_time": "2022-08-30T22:14:25.864190",
     "status": "completed"
    },
    "tags": []
   },
   "outputs": [
    {
     "data": {
      "text/plain": [
       "array([[1.0, 0.0, 0.0, 7420, 4, 2, 3, 1, 0, 0, 0, 1, 2, 1],\n",
       "       [1.0, 0.0, 0.0, 8960, 4, 4, 4, 1, 0, 0, 0, 1, 3, 0],\n",
       "       [0.0, 1.0, 0.0, 9960, 3, 2, 2, 1, 0, 1, 0, 0, 2, 1]], dtype=object)"
      ]
     },
     "execution_count": 8,
     "metadata": {},
     "output_type": "execute_result"
    }
   ],
   "source": [
    "from sklearn.preprocessing import LabelEncoder\n",
    "le = LabelEncoder()\n",
    "x[:,7] = le.fit_transform(x[:,7].astype(str))\n",
    "x[:,8] = le.fit_transform(x[:,8].astype(str))\n",
    "x[:,9] = le.fit_transform(x[:,9].astype(str))\n",
    "x[:,10] = le.fit_transform(x[:,10].astype(str))\n",
    "x[:,11] = le.fit_transform(x[:,11].astype(str))\n",
    "x[:,13] = le.fit_transform(x[:,13].astype(str))\n",
    "x[0:3]"
   ]
  },
  {
   "cell_type": "markdown",
   "id": "5d6d7e88",
   "metadata": {
    "papermill": {
     "duration": 0.004447,
     "end_time": "2022-08-30T22:14:25.892107",
     "exception": false,
     "start_time": "2022-08-30T22:14:25.887660",
     "status": "completed"
    },
    "tags": []
   },
   "source": [
    "Splitting the dataset into the Training set and Test set"
   ]
  },
  {
   "cell_type": "code",
   "execution_count": 9,
   "id": "7185dea5",
   "metadata": {
    "execution": {
     "iopub.execute_input": "2022-08-30T22:14:25.902526Z",
     "iopub.status.busy": "2022-08-30T22:14:25.901946Z",
     "iopub.status.idle": "2022-08-30T22:14:25.974946Z",
     "shell.execute_reply": "2022-08-30T22:14:25.973952Z"
    },
    "papermill": {
     "duration": 0.080716,
     "end_time": "2022-08-30T22:14:25.977161",
     "exception": false,
     "start_time": "2022-08-30T22:14:25.896445",
     "status": "completed"
    },
    "tags": []
   },
   "outputs": [],
   "source": [
    "from sklearn.model_selection import train_test_split\n",
    "x_train, x_test, y_train, y_test = train_test_split(x, y, test_size = 0.4, random_state = 1)"
   ]
  },
  {
   "cell_type": "markdown",
   "id": "e8ff60d0",
   "metadata": {
    "papermill": {
     "duration": 0.003852,
     "end_time": "2022-08-30T22:14:25.985378",
     "exception": false,
     "start_time": "2022-08-30T22:14:25.981526",
     "status": "completed"
    },
    "tags": []
   },
   "source": [
    "Feature Scaling, normalizing range of values"
   ]
  },
  {
   "cell_type": "code",
   "execution_count": 10,
   "id": "3f09f239",
   "metadata": {
    "execution": {
     "iopub.execute_input": "2022-08-30T22:14:25.995387Z",
     "iopub.status.busy": "2022-08-30T22:14:25.994760Z",
     "iopub.status.idle": "2022-08-30T22:14:26.002657Z",
     "shell.execute_reply": "2022-08-30T22:14:26.001999Z"
    },
    "papermill": {
     "duration": 0.015201,
     "end_time": "2022-08-30T22:14:26.004478",
     "exception": false,
     "start_time": "2022-08-30T22:14:25.989277",
     "status": "completed"
    },
    "tags": []
   },
   "outputs": [
    {
     "data": {
      "text/plain": [
       "array([[0.0, 1.0, 0.0, 2.2176003337956427, 3, 1, 1, 1, 0, 0, 0, 0, 1, 1],\n",
       "       [0.0, 1.0, 0.0, 0.38142960100838186, 3, 1, 3, 1, 1, 0, 0, 1, 0, 1],\n",
       "       [1.0, 0.0, 0.0, 3.0196312535379315, 4, 2, 2, 1, 0, 0, 0, 0, 2, 1],\n",
       "       [0.0, 0.0, 1.0, 0.2845340478269961, 2, 1, 1, 1, 0, 0, 0, 0, 0, 0]],\n",
       "      dtype=object)"
      ]
     },
     "execution_count": 10,
     "metadata": {},
     "output_type": "execute_result"
    }
   ],
   "source": [
    "from sklearn.preprocessing import StandardScaler\n",
    "sc = StandardScaler()\n",
    "x_train[:, 3:4] = sc.fit_transform(x_train[:, 3:4])\n",
    "x_test[:, 3:4] = sc.transform(x_test[:, 3:4])\n",
    "x_train[0:4]"
   ]
  }
 ],
 "metadata": {
  "kernelspec": {
   "display_name": "Python 3",
   "language": "python",
   "name": "python3"
  },
  "language_info": {
   "codemirror_mode": {
    "name": "ipython",
    "version": 3
   },
   "file_extension": ".py",
   "mimetype": "text/x-python",
   "name": "python",
   "nbconvert_exporter": "python",
   "pygments_lexer": "ipython3",
   "version": "3.7.12"
  },
  "papermill": {
   "default_parameters": {},
   "duration": 12.008455,
   "end_time": "2022-08-30T22:14:26.728662",
   "environment_variables": {},
   "exception": null,
   "input_path": "__notebook__.ipynb",
   "output_path": "__notebook__.ipynb",
   "parameters": {},
   "start_time": "2022-08-30T22:14:14.720207",
   "version": "2.3.4"
  }
 },
 "nbformat": 4,
 "nbformat_minor": 5
}
